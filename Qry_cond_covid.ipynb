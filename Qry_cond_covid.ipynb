{
  "nbformat": 4,
  "nbformat_minor": 0,
  "metadata": {
    "colab": {
      "provenance": [],
      "include_colab_link": true
    },
    "kernelspec": {
      "name": "python3",
      "display_name": "Python 3"
    },
    "language_info": {
      "name": "python"
    }
  },
  "cells": [
    {
      "cell_type": "markdown",
      "metadata": {
        "id": "view-in-github",
        "colab_type": "text"
      },
      "source": [
        "<a href=\"https://colab.research.google.com/github/Fuenfgeld/DMA2024TeamA/blob/main/Qry_cond_covid.ipynb\" target=\"_parent\"><img src=\"https://colab.research.google.com/assets/colab-badge.svg\" alt=\"Open In Colab\"/></a>"
      ]
    },
    {
      "cell_type": "code",
      "execution_count": 2,
      "metadata": {
        "id": "ewnMeBOTCHdE",
        "colab": {
          "base_uri": "https://localhost:8080/"
        },
        "outputId": "21927b99-25a7-4a60-a65c-a37c1221710a"
      },
      "outputs": [
        {
          "output_type": "stream",
          "name": "stdout",
          "text": [
            "Mounted at /content/drive\n"
          ]
        }
      ],
      "source": [
        "# !pip3 install https://github.com/pandas-profiling/pandas-profiling/archive/master.zip\n",
        "import pandas as pd\n",
        "import numpy as np\n",
        "import sqlite3\n",
        "# import pandas_profiling\n",
        "# from datetime import datetime\n",
        "# import re\n",
        "import seaborn as sns\n",
        "import matplotlib.pyplot as plt\n",
        "# from pandas_profiling import ProfileReport\n",
        "# will make plot outputs appear and stored within the notebook.\n",
        "%matplotlib inline\n",
        "from sqlite3 import Error\n",
        "\n",
        "from google.colab import drive\n",
        "drive.mount('/content/drive')\n",
        "\n",
        "# Path\n",
        "material_path = \"/content/drive/MyDrive/M3_DM_GrpA\"\n",
        "\n",
        "# path of datawarehouse\n",
        "DB_DWH_PATH = material_path + f\"/DWH_MAPCOV.db\"\n",
        "\n",
        "dwh_db = sqlite3.connect(DB_DWH_PATH)\n",
        "dwh_cursor = dwh_db.cursor()"
      ]
    },
    {
      "cell_type": "markdown",
      "source": [
        "Conditions: Filter nach Conditions, die parallel zu COVID aufgetreten sind.  \n",
        "Erster Part enthält den allgemeien Filter in der Conditions Tabelle nach Start und Stop von COVID-19.  \n",
        "Danach Merge mit der Conditions Tabelle OHNE 'COVID-19'. Das Ergebnis ist, dass hinter jedem Condition das Start/Stop Date von COVID steht. Nun kann eine Abfrage (Query) geschrieben werden, die die Datumsangaben vergleicht und filtert."
      ],
      "metadata": {
        "id": "LTR7V3qt9NkW"
      }
    },
    {
      "cell_type": "code",
      "source": [
        "df_conditions_filter = pd.read_sql_query(\"SELECT START AS stdt_covid, STOP AS endt_covid, PATIENT FROM conditions_INFO WHERE DESCRIPTION = 'COVID-19'\", dwh_db)\n",
        "print(\"Patients with Covid:\", df_conditions_filter.shape)\n",
        "df_cond_other = pd.read_sql_query(\"SELECT START, STOP, PATIENT, DESCRIPTION FROM conditions_info WHERE DESCRIPTION NOT LIKE '%COVID%'\", dwh_db)\n",
        "print(\"Number of other conitons than Covid:\",df_cond_other.shape)\n",
        "df_cond_covid = pd.merge(df_cond_other, df_conditions_filter, left_on=\"PATIENT\", right_on=\"PATIENT\",how=\"inner\")\n",
        "print(\"Merge:\",df_cond_covid.shape)\n",
        "df_cond_covid_qry = df_cond_covid.query('(STOP >= stdt_covid or STOP == 0) and (START <= endt_covid or endt_covid == 0)')\n",
        "print(\"Filter for cond within the same time as COVID:\",df_cond_covid_qry.shape)\n",
        "df_cond_covid_qry.head()\n",
        "\n",
        "# Alternativ: Lists the count for all 'DESCRIPTION'\n",
        "# df_cond_covid_qry.groupby([\"DESCRIPTION\"]).size()"
      ],
      "metadata": {
        "id": "Kqw3a_KtvtG0",
        "colab": {
          "base_uri": "https://localhost:8080/"
        },
        "outputId": "ec160365-efa7-40c7-a0fc-b1f069fa4d4f"
      },
      "execution_count": 4,
      "outputs": [
        {
          "output_type": "stream",
          "name": "stdout",
          "text": [
            "Patients with Covid: (865, 3)\n",
            "Number of other conitons than Covid: (4605, 4)\n",
            "Merge: (4361, 6)\n",
            "Filter for cond within the same time as COVID: (3729, 6)\n"
          ]
        },
        {
          "output_type": "execute_result",
          "data": {
            "text/plain": [
              "DESCRIPTION\n",
              "Acute deep venous thrombosis (disorder)       27\n",
              "Acute pulmonary embolism (disorder)           24\n",
              "Acute respiratory failure (disorder)          41\n",
              "Chill (finding)                               93\n",
              "Cough (finding)                              553\n",
              "Diarrhea symptom (finding)                    24\n",
              "Dyspnea (finding)                            153\n",
              "Fatigue (finding)                            326\n",
              "Fever (finding)                              750\n",
              "Headache (finding)                           108\n",
              "Heart failure (disorder)                       1\n",
              "Hemoptysis (finding)                          11\n",
              "Injury of kidney (disorder)                    1\n",
              "Joint pain (finding)                         135\n",
              "Loss of taste (finding)                      426\n",
              "Muscle pain (finding)                        135\n",
              "Nasal congestion (finding)                    46\n",
              "Nausea (finding)                              44\n",
              "Passive conjunctival congestion (finding)      6\n",
              "Pneumonia (disorder)                         105\n",
              "Respiratory distress (finding)               105\n",
              "Sepsis caused by virus (disorder)             26\n",
              "Sore throat symptom (finding)                117\n",
              "Sputum finding (finding)                     275\n",
              "Vomiting symptom (finding)                    44\n",
              "Wheezing (finding)                           153\n",
              "dtype: int64"
            ]
          },
          "metadata": {},
          "execution_count": 4
        }
      ]
    }
  ]
}