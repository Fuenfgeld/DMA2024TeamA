{
  "nbformat": 4,
  "nbformat_minor": 0,
  "metadata": {
    "colab": {
      "provenance": [],
      "include_colab_link": true
    },
    "kernelspec": {
      "name": "python3",
      "display_name": "Python 3"
    },
    "language_info": {
      "name": "python"
    }
  },
  "cells": [
    {
      "cell_type": "markdown",
      "metadata": {
        "id": "view-in-github",
        "colab_type": "text"
      },
      "source": [
        "<a href=\"https://colab.research.google.com/github/Fuenfgeld/DMA2024TeamA/blob/main/Abfragen_DWH.ipynb\" target=\"_parent\"><img src=\"https://colab.research.google.com/assets/colab-badge.svg\" alt=\"Open In Colab\"/></a>"
      ]
    },
    {
      "cell_type": "markdown",
      "source": [
        "Notwendige Schritte, um das DWH zu öffnen. Pfad muss ggf. angepasst oder auskommentiert werden. Dieser Abschnitt muss einmal ausgeführt werden, um sich mit dem DWH zu verbinden. Danach können die Abfragen\n",
        "einzeln ausgeführt werden.\n",
        "\n"
      ],
      "metadata": {
        "id": "U1ooiqgDCIHP"
      }
    },
    {
      "cell_type": "code",
      "execution_count": null,
      "metadata": {
        "colab": {
          "base_uri": "https://localhost:8080/"
        },
        "id": "ewnMeBOTCHdE",
        "outputId": "c2f8006b-c626-4579-c03f-e30b971f6339"
      },
      "outputs": [
        {
          "output_type": "stream",
          "name": "stdout",
          "text": [
            "Mounted at /content/drive\n"
          ]
        }
      ],
      "source": [
        "import sqlite3\n",
        "from sqlite3 import Error\n",
        "\n",
        "from google.colab import drive\n",
        "drive.mount('/content/drive')\n",
        "\n",
        "# Path\n",
        "material_path = \"/content/drive/MyDrive/M3_DM_GrpA\"\n",
        "\n",
        "# path of datawarehouse\n",
        "DB_DWH_PATH = material_path + f\"/DWH_GrpA.db\"\n",
        "\n",
        "dwh_db = sqlite3.connect(DB_DWH_PATH)\n",
        "dwh_cursor = dwh_db.cursor()"
      ]
    },
    {
      "cell_type": "markdown",
      "source": [
        "Unabhängige Abfragen zur Nutzung"
      ],
      "metadata": {
        "id": "-3cS9zm-Ca7N"
      }
    },
    {
      "cell_type": "code",
      "source": [
        "# check list of tables\n",
        "dwh_cursor.execute(\"SELECT name FROM sqlite_master WHERE type='table';\")\n",
        "print(dwh_cursor.fetchall())"
      ],
      "metadata": {
        "colab": {
          "base_uri": "https://localhost:8080/"
        },
        "id": "91gwjvkkCxcd",
        "outputId": "d550614d-a6b4-47d0-9242-3d68c9c04e6c"
      },
      "execution_count": null,
      "outputs": [
        {
          "output_type": "stream",
          "name": "stdout",
          "text": [
            "[('patients_info',), ('county_info',), ('disease_info',), ('conditions_info',), ('careplans_info',), ('procedures_info',), ('medications_info',), ('observations_info',), ('devices_info',), ('imaging_studies_info',)]\n"
          ]
        }
      ]
    },
    {
      "cell_type": "code",
      "source": [
        "# check columns in a table (hier: county_info)\n",
        "dwh_cursor.execute('PRAGMA table_info(' + \"county_info\" + ');')\n",
        "dwh_cursor.fetchall()"
      ],
      "metadata": {
        "colab": {
          "base_uri": "https://localhost:8080/"
        },
        "id": "ofZr43gLCyJF",
        "outputId": "b25350d6-0ed0-4d03-f1ae-8e90e4e83ebd"
      },
      "execution_count": null,
      "outputs": [
        {
          "output_type": "execute_result",
          "data": {
            "text/plain": [
              "[(0, 'STATE', 'STRING', 0, None, 0),\n",
              " (1, 'COUNTY', 'STRING', 0, None, 1),\n",
              " (2, 'POPULATION', 'INTEGER', 0, None, 0),\n",
              " (3, 'AREA_sqm', 'INTEGER', 0, None, 0),\n",
              " (4, 'DENSITY_per_sqm', 'INTEGER', 0, None, 0),\n",
              " (5, 'SEASIDE', 'INTEGER', 0, None, 0)]"
            ]
          },
          "metadata": {},
          "execution_count": 6
        }
      ]
    },
    {
      "cell_type": "code",
      "source": [
        "# Schreibe ein SQL Statement und lass die ersten 10 Zeilen ausgeben\n",
        "# Bsp 1\n",
        "dwh_cursor.execute(\"SELECT Id, BIRTHDATE, FIRST, LAST, MARITAL, GENDER from patients_info\")\n",
        "rows = dwh_cursor.fetchall()\n",
        "for row in rows[:10]:\n",
        "  print(row)"
      ],
      "metadata": {
        "colab": {
          "base_uri": "https://localhost:8080/"
        },
        "id": "UudcOfIuC1iw",
        "outputId": "b2c73449-cf9f-4f9d-ccde-3c714bc77a01"
      },
      "execution_count": null,
      "outputs": [
        {
          "output_type": "stream",
          "name": "stdout",
          "text": [
            "('2f114e21-8b95-e9eb-2e9e-4b950b059cfa', '2002-05-05', 'Terisa250', 'Kreiger457', '', 'F')\n",
            "('2812f4fc-6aba-0033-728b-7e569bb8adcc', '1942-05-24', 'Romeo514', 'Morar593', 'M', 'M')\n",
            "('9b1a203a-6368-49a5-0c79-45c32729bc17', '2013-06-15', 'Jamaal34', 'Hessel84', '', 'M')\n",
            "('52a250a9-24e4-ec9b-91d6-c38cf1b10fc0', '1997-11-16', 'Kenya524', 'Leuschke194', '', 'F')\n",
            "('ad5525c0-fdab-94dc-018f-d7209c72bdef', '1965-08-28', 'Clark193', 'Little434', 'M', 'M')\n",
            "('7f30313f-98e9-2cc2-68a5-6f9973f9ad5a', '1974-12-06', 'Simona661', 'Green467', 'M', 'F')\n",
            "('f7dddcba-380e-7fd4-20b0-da086ce5dc3a', '1991-08-19', 'Moira454', 'Quitzon246', 'M', 'F')\n",
            "('21e040b3-3c29-6042-1dba-da47dee67c18', '1952-12-25', 'Guillermo498', 'Cepeda588', 'M', 'M')\n",
            "('b9f7feb0-45ac-55ed-4ee2-be12ad599416', '1980-02-24', 'Geralyn932', 'Steuber698', 'S', 'F')\n",
            "('2b2d8855-c163-3838-a719-995a3cefca33', '1992-10-19', 'Gracia333', 'Lockman863', 'M', 'F')\n"
          ]
        }
      ]
    },
    {
      "cell_type": "code",
      "source": [
        "# Bsp 2\n",
        "dwh_cursor.execute(\"SELECT PATIENT,CODE, DESCRIPTION STRING, BASE_COST from procedures_info\")\n",
        "rows = dwh_cursor.fetchall()\n",
        "for row in rows[:10]:\n",
        "  print(row)"
      ],
      "metadata": {
        "colab": {
          "base_uri": "https://localhost:8080/"
        },
        "id": "tLjma6O2C3qt",
        "outputId": "9528456b-a388-48af-c682-8715409c48f7"
      },
      "execution_count": null,
      "outputs": [
        {
          "output_type": "stream",
          "name": "stdout",
          "text": [
            "('52a250a9-24e4-ec9b-91d6-c38cf1b10fc0', 261352009, 'Face mask (physical object)', 4.67)\n",
            "('2f114e21-8b95-e9eb-2e9e-4b950b059cfa', 261352009, 'Face mask (physical object)', 3.1)\n",
            "('2812f4fc-6aba-0033-728b-7e569bb8adcc', 261352009, 'Face mask (physical object)', 1.33)\n",
            "('7f30313f-98e9-2cc2-68a5-6f9973f9ad5a', 261352009, 'Face mask (physical object)', 3.56)\n",
            "('9b1a203a-6368-49a5-0c79-45c32729bc17', 261352009, 'Face mask (physical object)', 1.95)\n",
            "('ad5525c0-fdab-94dc-018f-d7209c72bdef', 261352009, 'Face mask (physical object)', 2.59)\n",
            "('2812f4fc-6aba-0033-728b-7e569bb8adcc', 180325003, 'Electrical cardioversion', 44895.87)\n",
            "('ad5525c0-fdab-94dc-018f-d7209c72bdef', 399208008, 'Plain chest X-ray (procedure)', 6211.16)\n",
            "('ad5525c0-fdab-94dc-018f-d7209c72bdef', 371908008, 'Oxygen administration by mask (procedure)', 516.65)\n",
            "('ad5525c0-fdab-94dc-018f-d7209c72bdef', 431182000, 'Placing subject in prone position (procedure)', 516.65)\n"
          ]
        }
      ]
    },
    {
      "cell_type": "code",
      "source": [
        "dwh_cursor.execute(\"SELECT COUNT(Id) AS Anzahl, REASONDESCRIPTION FROM careplans_info GROUP BY REASONDESCRIPTION\")\n",
        "rows = dwh_cursor.fetchall()\n",
        "for row in rows[:10]:\n",
        "  print(row)"
      ],
      "metadata": {
        "colab": {
          "base_uri": "https://localhost:8080/"
        },
        "id": "LM1DPsa-FcdN",
        "outputId": "559a4972-9868-4f26-d36a-8c2db96429fa"
      },
      "execution_count": null,
      "outputs": [
        {
          "output_type": "stream",
          "name": "stdout",
          "text": [
            "(738, 'COVID-19')\n",
            "(905, 'Suspected COVID-19')\n"
          ]
        }
      ]
    },
    {
      "cell_type": "markdown",
      "source": [
        "Abfrage: County, Density, Anzahl Covid"
      ],
      "metadata": {
        "id": "WNbKjgEAOfwc"
      }
    },
    {
      "cell_type": "code",
      "source": [
        "dwh_cursor.execute(\"SELECT patients_info.COUNTY, county_info.DENSITY_per_sqm, COUNT(patients_info.Id), conditions_info.DESCRIPTION FROM conditions_info JOIN patients_info, county_info ON conditions_info.PATIENT = patients_info.Id AND patients_info.COUNTY = county_info.COUNTY WHERE conditions_info.DESCRIPTION = 'COVID-19' GROUP BY patients_info.COUNTY\")\n",
        "rows = dwh_cursor.fetchall()\n",
        "for row in rows:\n",
        "  print(row)"
      ],
      "metadata": {
        "colab": {
          "base_uri": "https://localhost:8080/"
        },
        "id": "FHJqhqFRIpGz",
        "outputId": "4388b815-4014-494a-b14a-e2693e45eb17"
      },
      "execution_count": null,
      "outputs": [
        {
          "output_type": "stream",
          "name": "stdout",
          "text": [
            "('Barnstable County', 595, 26, 'COVID-19')\n",
            "('Berkshire County', 138, 21, 'COVID-19')\n",
            "('Bristol County', 1070, 97, 'COVID-19')\n",
            "('Dukes County', 216, 2, 'COVID-19')\n",
            "('Essex County', 1697, 85, 'COVID-19')\n",
            "('Franklin County', 101, 13, 'COVID-19')\n",
            "('Hampden County', 757, 52, 'COVID-19')\n",
            "('Hampshire County', 311, 17, 'COVID-19')\n",
            "('Middlesex County', 2085, 201, 'COVID-19')\n",
            "('Nantucket County', 345, 2, 'COVID-19')\n",
            "('Norfolk County', 1889, 84, 'COVID-19')\n",
            "('Plymouth County', 807, 76, 'COVID-19')\n",
            "('Suffolk County', 14281, 84, 'COVID-19')\n",
            "('Worcester County', 587, 105, 'COVID-19')\n"
          ]
        }
      ]
    },
    {
      "cell_type": "code",
      "source": [],
      "metadata": {
        "id": "hmT8GgEnOswu"
      },
      "execution_count": null,
      "outputs": []
    }
  ]
}