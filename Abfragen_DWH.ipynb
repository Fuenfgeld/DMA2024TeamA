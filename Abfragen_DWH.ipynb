{
  "nbformat": 4,
  "nbformat_minor": 0,
  "metadata": {
    "colab": {
      "provenance": [],
      "toc_visible": true,
      "include_colab_link": true
    },
    "kernelspec": {
      "name": "python3",
      "display_name": "Python 3"
    },
    "language_info": {
      "name": "python"
    }
  },
  "cells": [
    {
      "cell_type": "markdown",
      "metadata": {
        "id": "view-in-github",
        "colab_type": "text"
      },
      "source": [
        "<a href=\"https://colab.research.google.com/github/Fuenfgeld/DMA2024TeamA/blob/main/Abfragen_DWH.ipynb\" target=\"_parent\"><img src=\"https://colab.research.google.com/assets/colab-badge.svg\" alt=\"Open In Colab\"/></a>"
      ]
    },
    {
      "cell_type": "markdown",
      "source": [
        "Notwendige Schritte, um das DWH zu öffnen. Pfad muss ggf. angepasst oder auskommentiert werden. Dieser Abschnitt muss einmal ausgeführt werden, um sich mit dem DWH zu verbinden. Danach können die Abfragen\n",
        "einzeln ausgeführt werden.\n",
        "\n"
      ],
      "metadata": {
        "id": "U1ooiqgDCIHP"
      }
    },
    {
      "cell_type": "code",
      "execution_count": null,
      "metadata": {
        "id": "ewnMeBOTCHdE"
      },
      "outputs": [],
      "source": [
        "# !pip3 install https://github.com/pandas-profiling/pandas-profiling/archive/master.zip\n",
        "import pandas as pd\n",
        "import numpy as np\n",
        "import sqlite3\n",
        "# import pandas_profiling\n",
        "# from datetime import datetime\n",
        "# import re\n",
        "import seaborn as sns\n",
        "import matplotlib.pyplot as plt\n",
        "# from pandas_profiling import ProfileReport\n",
        "# will make plot outputs appear and stored within the notebook.\n",
        "%matplotlib inline\n",
        "from sqlite3 import Error\n",
        "\n",
        "from google.colab import drive\n",
        "drive.mount('/content/drive')\n",
        "\n",
        "# Path\n",
        "material_path = \"/content/drive/MyDrive/M3_DM_GrpA\"\n",
        "\n",
        "# path of datawarehouse\n",
        "DB_DWH_PATH = material_path + f\"/DWH_GrpA.db\"\n",
        "\n",
        "dwh_db = sqlite3.connect(DB_DWH_PATH)\n",
        "dwh_cursor = dwh_db.cursor()"
      ]
    },
    {
      "cell_type": "markdown",
      "source": [
        "Unabhängige Abfragen zur Nutzung"
      ],
      "metadata": {
        "id": "-3cS9zm-Ca7N"
      }
    },
    {
      "cell_type": "code",
      "source": [
        "# check list of tables\n",
        "dwh_cursor.execute(\"SELECT name FROM sqlite_master WHERE type='table';\")\n",
        "print(dwh_cursor.fetchall())"
      ],
      "metadata": {
        "id": "91gwjvkkCxcd"
      },
      "execution_count": null,
      "outputs": []
    },
    {
      "cell_type": "code",
      "source": [
        "# check columns in a table (hier: county_info)\n",
        "dwh_cursor.execute('PRAGMA table_info(' + \"county_info\" + ');')\n",
        "dwh_cursor.fetchall()"
      ],
      "metadata": {
        "id": "ofZr43gLCyJF"
      },
      "execution_count": null,
      "outputs": []
    },
    {
      "cell_type": "code",
      "source": [
        "# Schreibe ein SQL Statement und lass die ersten 10 Zeilen ausgeben\n",
        "# Bsp 1\n",
        "dwh_cursor.execute(\"SELECT Id, BIRTHDATE, FIRST, LAST, MARITAL, GENDER from patients_info\")\n",
        "rows = dwh_cursor.fetchall()\n",
        "for row in rows[:10]:\n",
        "  print(row)"
      ],
      "metadata": {
        "id": "UudcOfIuC1iw"
      },
      "execution_count": null,
      "outputs": []
    },
    {
      "cell_type": "code",
      "source": [
        "# Bsp 2\n",
        "dwh_cursor.execute(\"SELECT COUNT(DISTINCT PATIENT),CODE, DESCRIPTION STRING, BASE_COST from procedures_info WHERE DESCRIPTION LIKE '%OXYGEN%' GROUP BY CODE\")\n",
        "rows = dwh_cursor.fetchall()\n",
        "for row in rows[:10]:\n",
        "  print(row)"
      ],
      "metadata": {
        "id": "tLjma6O2C3qt"
      },
      "execution_count": null,
      "outputs": []
    },
    {
      "cell_type": "code",
      "source": [
        "dwh_cursor.execute(\"SELECT p.Id, COUNT(e.Id) AS Anzahl, e.ENCOUNTERCLASS FROM encounters_info e JOIN patients_info p ON e.PATIENT = p.Id WHERE e.REASONDESCRIPTION = 'COVID-19' GROUP BY p.Id\")\n",
        "rows = dwh_cursor.fetchall()\n",
        "print(dwh_cursor.description)\n",
        "for row in rows[:10]:\n",
        "  print(row)"
      ],
      "metadata": {
        "id": "LM1DPsa-FcdN"
      },
      "execution_count": null,
      "outputs": []
    },
    {
      "cell_type": "markdown",
      "source": [
        "Abfrage: County, Density, Anzahl Covid"
      ],
      "metadata": {
        "id": "WNbKjgEAOfwc"
      }
    },
    {
      "cell_type": "code",
      "source": [
        "dwh_cursor.execute(\"SELECT patients_info.COUNTY, county_info.DENSITY_per_sqm, COUNT(patients_info.Id), conditions_info.DESCRIPTION FROM conditions_info JOIN patients_info, county_info ON conditions_info.PATIENT = patients_info.Id AND patients_info.COUNTY = county_info.COUNTY WHERE conditions_info.DESCRIPTION = 'COVID-19' GROUP BY patients_info.COUNTY\")\n",
        "rows = dwh_cursor.fetchall()\n",
        "for row in rows:\n",
        "  print(row)"
      ],
      "metadata": {
        "id": "FHJqhqFRIpGz"
      },
      "execution_count": null,
      "outputs": []
    },
    {
      "cell_type": "code",
      "source": [
        "dwh_cursor.execute(\"SELECT e.ENCOUNTERCLASS, e.START, p.DEATHDATE FROM encounters_info e JOIN patients_info p ON e.PATIENT = p.Id WHERE e.REASONDESCRIPTION = 'COVID-19' ORDER BY DEATHDATE DESC\")\n",
        "rows = dwh_cursor.fetchall()\n",
        "for row in rows[:10]:\n",
        "  print(row)"
      ],
      "metadata": {
        "id": "hmT8GgEnOswu"
      },
      "execution_count": null,
      "outputs": []
    },
    {
      "cell_type": "markdown",
      "source": [
        "SQL Abfrage mit Pandas"
      ],
      "metadata": {
        "id": "tKvFJJeDtkIs"
      }
    },
    {
      "cell_type": "code",
      "source": [
        "df_patients = pd.read_sql_query(\"SELECT * FROM PATIENTS_INFO\", dwh_db)\n",
        "df_patients.head()"
      ],
      "metadata": {
        "id": "WtOOIrYesjGj"
      },
      "execution_count": null,
      "outputs": []
    },
    {
      "cell_type": "code",
      "source": [
        "df_conditions = pd.read_sql_query(\"SELECT * FROM conditions_INFO\", dwh_db)\n",
        "df_conditions.head()"
      ],
      "metadata": {
        "id": "Kqw3a_KtvtG0"
      },
      "execution_count": null,
      "outputs": []
    },
    {
      "cell_type": "code",
      "source": [
        "df_medications = pd.read_sql_query(\"SELECT * FROM medications_INFO WHERE REASONDESCRIPTION LIKE '%COV%'\", dwh_db)\n",
        "df_medications.head()"
      ],
      "metadata": {
        "id": "1uOXWan4wU-c"
      },
      "execution_count": null,
      "outputs": []
    },
    {
      "cell_type": "code",
      "source": [
        "df_devices = pd.read_sql_query(\"SELECT DESCRIPTION FROM devices_INFO GROUP BY DESCRIPTION \", dwh_db)\n",
        "print(df_devices)"
      ],
      "metadata": {
        "id": "JKNbW2kqxMOk"
      },
      "execution_count": null,
      "outputs": []
    }
  ]
}