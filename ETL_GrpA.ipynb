{
  "nbformat": 4,
  "nbformat_minor": 0,
  "metadata": {
    "colab": {
      "provenance": [],
      "include_colab_link": true
    },
    "kernelspec": {
      "name": "python3",
      "display_name": "Python 3"
    }
  },
  "cells": [
    {
      "cell_type": "markdown",
      "metadata": {
        "id": "view-in-github",
        "colab_type": "text"
      },
      "source": [
        "<a href=\"https://colab.research.google.com/github/Fuenfgeld/DMA2024TeamA/blob/main/ETL_GrpA.ipynb\" target=\"_parent\"><img src=\"https://colab.research.google.com/assets/colab-badge.svg\" alt=\"Open In Colab\"/></a>"
      ]
    },
    {
      "cell_type": "markdown",
      "metadata": {
        "id": "rDF6jnIrk5L8"
      },
      "source": [
        "# **Objective**: Create a Datawarehouse and transform data from source database to datawarehouse db\n",
        "\n"
      ]
    },
    {
      "cell_type": "markdown",
      "metadata": {
        "id": "aFINDtv7IOsW"
      },
      "source": [
        "# Importing libraries"
      ]
    },
    {
      "cell_type": "code",
      "metadata": {
        "id": "PAtASFg0NjWe"
      },
      "source": [
        "import sqlite3\n",
        "from sqlite3 import Error"
      ],
      "execution_count": 1,
      "outputs": []
    },
    {
      "cell_type": "code",
      "source": [
        "from google.colab import drive\n",
        "drive.mount('/content/drive')"
      ],
      "metadata": {
        "colab": {
          "base_uri": "https://localhost:8080/"
        },
        "id": "g00gkc75xLYJ",
        "outputId": "ba31245d-0437-44cd-a7e2-b0c6a64a1d40"
      },
      "execution_count": 2,
      "outputs": [
        {
          "output_type": "stream",
          "name": "stdout",
          "text": [
            "Mounted at /content/drive\n"
          ]
        }
      ]
    },
    {
      "cell_type": "markdown",
      "metadata": {
        "id": "hO-KOV0IITRx"
      },
      "source": [
        "# Path of input/output data\n"
      ]
    },
    {
      "cell_type": "code",
      "metadata": {
        "id": "cbN89u5p-vgO"
      },
      "source": [
        "# Path\n",
        "material_path = \"/content/drive/MyDrive/M3_DM_GrpA\""
      ],
      "execution_count": 3,
      "outputs": []
    },
    {
      "cell_type": "markdown",
      "metadata": {
        "id": "ZbvVje0BJCTf"
      },
      "source": [
        "Uncomment one type of patient that you would like to create for it datawarehouse database and  transfer tables from source db to it."
      ]
    },
    {
      "cell_type": "code",
      "metadata": {
        "id": "uzL1jGs-751J"
      },
      "source": [
        "## type of patients\n",
        "# patient_type = \"allergy\"\n",
        "# patient_type = \"asthma\"\n",
        "# patient_type = \"breast_cancer\"\n",
        "# patient_type = \"metabolic_syndrome_disease\"\n",
        "# patient_type = \"colorectal_cancer\"\n",
        "patient_type = \"covid19\"\n",
        "# patient_type = \"dermatitis\"\n",
        "# patient_type = \"lung_cancer\""
      ],
      "execution_count": 4,
      "outputs": []
    },
    {
      "cell_type": "code",
      "metadata": {
        "id": "iik2EG7sTkl3",
        "colab": {
          "base_uri": "https://localhost:8080/",
          "height": 35
        },
        "outputId": "af0df829-4fee-471b-ecec-6635e19ba694"
      },
      "source": [
        "# path of source database\n",
        "DB_SOURCE_PATH = material_path + f\"/source_covid19.db\"\n",
        "DB_SOURCE_PATH"
      ],
      "execution_count": 5,
      "outputs": [
        {
          "output_type": "execute_result",
          "data": {
            "text/plain": [
              "'/content/drive/MyDrive/M3_DM_GrpA/source_covid19.db'"
            ],
            "application/vnd.google.colaboratory.intrinsic+json": {
              "type": "string"
            }
          },
          "metadata": {},
          "execution_count": 5
        }
      ]
    },
    {
      "cell_type": "code",
      "metadata": {
        "id": "w4oN9QgLI7Cc"
      },
      "source": [
        "# path of datawarehouse\n",
        "DB_DWH_PATH = material_path + f\"/DWH_GrpA.db\"\n"
      ],
      "execution_count": 6,
      "outputs": []
    },
    {
      "cell_type": "markdown",
      "metadata": {
        "id": "X_WekES-IlMO"
      },
      "source": [
        "# Create Datawarehouse"
      ]
    },
    {
      "cell_type": "code",
      "metadata": {
        "id": "2SL03VkYnodn"
      },
      "source": [
        "class DB(object):\n",
        "  def __init__(self, db_file):\n",
        "    self.conn = sqlite3.connect(db_file)\n",
        "    self.cur = self.conn.cursor()\n",
        "    self.__init_db()\n",
        "\n",
        "  def __del__(self):\n",
        "      self.conn.commit()\n",
        "      self.conn.close()\n",
        "\n",
        "  def __init_db(self):\n",
        "    # sql queries to create tables in Datawarehouse\n",
        "\n",
        "    #  sql query to create patients_info table\n",
        "    create_patients_info = \"\"\"CREATE TABLE IF NOT EXISTS patients_info (\n",
        "                           Id STRING PRIMARY KEY,\n",
        "                           BIRTHDATE DATE,\n",
        "                           DEATHDATE DATE,\n",
        "                           SSN STRING,\n",
        "                           DRIVERS STRING,\n",
        "                           PASSPORT STRING,\n",
        "                           PREFIX STRING,\n",
        "                           FIRST STRING,\n",
        "                           LAST STRING,\n",
        "                           SUFFIX STRING,\n",
        "                           MAIDEN STRING,\n",
        "                           MARITAL STRING,\n",
        "                           RACE STRING,\n",
        "                           ETHNICITY STRING,\n",
        "                           GENDER STRING,\n",
        "                           BIRTHPLACE STRING,\n",
        "                           ADDRESS STRING,\n",
        "                           CITY STRING,\n",
        "                           STATE STRING,\n",
        "                           COUNTY STRING,\n",
        "                           ZIP STRING,\n",
        "                           LAT INTEGER,\n",
        "                           LON INTEGER,\n",
        "                           HEALTHCARE_EXPENSES INTEGER,\n",
        "                           HEALTHCARE_COVERAGE INTEGER,\n",
        "                           FOREIGN KEY (COUNTY)\n",
        "                              REFERENCES county (county)\n",
        "                       );\"\"\"\n",
        "\n",
        "    #  sql query to create encounters table\n",
        "    create_encounters_info = \"\"\"CREATE TABLE IF NOT EXISTS encounters_info (\n",
        "                           Id STRING PRIMARY KEY,\n",
        "                           START DATE,\n",
        "                           STOP DATE,\n",
        "                           PATIENT STRING,\n",
        "                           ORGANIZATIONS STRING,\n",
        "                           PROVIDER STRING,\n",
        "                           PAYER STRING,\n",
        "                           ENCOUNTERCLASS STRING,\n",
        "                           CODE STRING,\n",
        "                           DESCRIPTION STRING,\n",
        "                           BASE_ENCOUNTER_COST INTEGER,\n",
        "                           TOTAL_CLAIM_COST INTEGER,\n",
        "                           PAYER_COVERAGE INTEGER,\n",
        "                           REASONCODE STRING,\n",
        "                           REASONDESCRIPTION STRING,\n",
        "                           FOREIGN KEY (PATIENT)\n",
        "                              REFERENCES patients (Id)\n",
        "                       );\"\"\"\n",
        "\n",
        "    # sql query to create condition table\n",
        "    create_conditions_info = \"\"\"CREATE TABLE IF NOT EXISTS conditions_info (\n",
        "                           START DATE,\n",
        "                           STOP DATE,\n",
        "                           PATIENT STRING,\n",
        "                           ENCOUNTER STRING,\n",
        "                           CODE STRING,\n",
        "                           DESCRIPTION STRING,\n",
        "                           FOREIGN KEY (PATIENT)\n",
        "                              REFERENCES patients_info (Id)\n",
        "                           FOREIGN KEY (Encounter)\n",
        "                              REFERENCES encounters (Id)\n",
        "\n",
        "                       );\"\"\"\n",
        "\n",
        "    # sql query to create careplans table\n",
        "    create_careplans_info = \"\"\"CREATE TABLE IF NOT EXISTS careplans_info (\n",
        "                           Id STRING PRIMARY KEY,\n",
        "                           START DATE,\n",
        "                           STOP DATE,\n",
        "                           PATIENT STRING,\n",
        "                           ENCOUNTER STRING,\n",
        "                           CODE STRING,\n",
        "                           DESCRIPTION STRING,\n",
        "                           REASONCODE STRING,\n",
        "                           REASONDESCRIPTION STRING,\n",
        "                           FOREIGN KEY (PATIENT)\n",
        "                              REFERENCES patients_info (Id)\n",
        "                           FOREIGN KEY (Encounter)\n",
        "                              REFERENCES encounters (Id)\n",
        "\n",
        "                       );\"\"\"\n",
        "\n",
        "    # sql query to create procedures table\n",
        "    create_procedures_info = \"\"\"CREATE TABLE IF NOT EXISTS procedures_info (\n",
        "                           DATE DATE,\n",
        "                           PATIENT STRING,\n",
        "                           ENCOUNTER STRING,\n",
        "                           CODE STRING,\n",
        "                           DESCRIPTION STRING,\n",
        "                           BASE_COST INTEGER,\n",
        "                           REASONCODE STRING,\n",
        "                           REASONDESCRIPTION STRING,\n",
        "                           FOREIGN KEY (PATIENT)\n",
        "                              REFERENCES patients_info (Id)\n",
        "                       );\"\"\"\n",
        "\n",
        "    # sql query to create medications_info table\n",
        "    create_medications_info = \"\"\"CREATE TABLE IF NOT EXISTS medications_info (\n",
        "                           START DATE,\n",
        "                           STOP DATE,\n",
        "                           PATIENT STRING,\n",
        "                           PAYER STRING,\n",
        "                           ENCOUNTER STRING,\n",
        "                           CODE STRING,\n",
        "                           DESCRIPTION STRING,\n",
        "                           BASE_COST INTEGER,\n",
        "                           PAYER_COVERAGE INTEGER,\n",
        "                           DISPENSES INTEGER,\n",
        "                           TOTALCOST INTEGER,\n",
        "                           REASONCODE STRING,\n",
        "                           REASONDESCRIPTION STRING,\n",
        "                           FOREIGN KEY (PATIENT)\n",
        "                              REFERENCES patients_info (Id)\n",
        "\n",
        "                       );\"\"\"\n",
        "\n",
        "    # sql query to create observations table\n",
        "    create_observations_info = \"\"\"CREATE TABLE IF NOT EXISTS observations_info (\n",
        "                           DATE DATE,\n",
        "                           PATIENT STRING,\n",
        "                           ENCOUNTER STRING,\n",
        "                           CODE STRING,\n",
        "                           DESCRIPTION STRING,\n",
        "                           VALUE STRING,\n",
        "                           UNITS STRING,\n",
        "                           TYPE STRING,\n",
        "                           FOREIGN KEY (PATIENT)\n",
        "                              REFERENCES patients_info (Id)\n",
        "                       );\"\"\"\n",
        "\n",
        "\n",
        "    # sql query to create devices table\n",
        "    create_devices_info = \"\"\"CREATE TABLE IF NOT EXISTS devices_info (\n",
        "                           START DATE,\n",
        "                           STOP DATE,\n",
        "                           PATIENT STRING,\n",
        "                           ENCOUNTER STRING,\n",
        "                           CODE STRING,\n",
        "                           DESCRIPTION STRING,\n",
        "                           UDI STRING,\n",
        "                           FOREIGN KEY (PATIENT)\n",
        "                              REFERENCES patients_info (Id)\n",
        "                       );\"\"\"\n",
        "\n",
        "   # sql query to create county table\n",
        "    create_county_info = \"\"\"CREATE TABLE IF NOT EXISTS county_info(\n",
        "                    STATE STRING,\n",
        "                    COUNTY STRING PRIMARY KEY,\n",
        "                    POPULATION INTEGER,\n",
        "                    AREA_sqm INTEGER,\n",
        "                    DENSITY_per_sqm INTEGER,\n",
        "                    SEASIDE INTEGER\n",
        "                  );\"\"\"\n",
        "\n",
        "    create_tables = [create_patients_info, create_county_info, # demographic data\n",
        "                     create_conditions_info, # diagnoses data\n",
        "                     create_encounters_info, create_careplans_info, create_procedures_info, create_medications_info, # procedures data\n",
        "                     create_observations_info, create_devices_info # lab values data\n",
        "                     ]\n",
        "\n",
        "\n",
        "    if self.conn is not None:\n",
        "      # self.cur.execute(f\"drop table if exists medications_info\")\n",
        "      for query in create_tables:\n",
        "          self.cur.execute(query)\n",
        "    else:\n",
        "      print('Connection to database failed')\n",
        "\n"
      ],
      "execution_count": 12,
      "outputs": []
    },
    {
      "cell_type": "markdown",
      "metadata": {
        "id": "VUIHYzr2IxMl"
      },
      "source": [
        "#ETL/ELT (Extract, transform, load )"
      ]
    },
    {
      "cell_type": "code",
      "metadata": {
        "id": "tBMOAjmPReGG"
      },
      "source": [
        "# exporting queries\n",
        "class SqlQuery:\n",
        "  def __init__(self, source_table, column_names, sink_table):\n",
        "    self.source_table = source_table\n",
        "    self.column_numbers = len(column_names)\n",
        "    self.column_names = ', '.join(column_names)\n",
        "    self.sink_table = sink_table\n",
        "\n",
        "  def extract_query(self):\n",
        "    return 'SELECT ' + self.column_names + ' FROM ' + self.source_table\n",
        "\n",
        "  def load_query(self):\n",
        "    values_str = '?,' * self.column_numbers\n",
        "    # print(\"*****\", values_str, column_names, column_numbers)\n",
        "    values_str = values_str[:-1]\n",
        "    return 'INSERT OR REPLACE INTO ' + self.sink_table + ' VALUES (' + values_str + ')'\n",
        "\n",
        "    # return 'INSERT INTO ' + self.sink_table + '(' + self.column_names + ') VALUES (' + values_str + ')'\n",
        "\n",
        "\n"
      ],
      "execution_count": 8,
      "outputs": []
    },
    {
      "cell_type": "code",
      "metadata": {
        "id": "FtEGoZc_PU5-"
      },
      "source": [
        "def etl(query, source_cnx, target_cnx):\n",
        "  # extract data from source db\n",
        "  source_cursor = source_cnx.cursor()\n",
        "  source_cursor.execute(query.extract_query())\n",
        "  data = source_cursor.fetchall()\n",
        "  source_cursor.close()\n",
        "\n",
        "  # load data into warehouse db\n",
        "  if data:\n",
        "    target_cursor = target_cnx.cursor()\n",
        "    target_cursor.executemany(query.load_query(), data)\n",
        "    print('data loaded to warehouse db')\n",
        "    target_cnx.commit()\n",
        "    target_cursor.close()\n",
        "  else:\n",
        "    print('data is empty')\n",
        "\n",
        "\n",
        "def etl_process(queries, target_cnx, db_source):\n",
        "  \"\"\"\n",
        "  queries: list\n",
        "        a list of queries\n",
        "  target_cnx: SQLite connection\n",
        "  db_source: str\n",
        "        path of source database\n",
        "\n",
        "  \"\"\"\n",
        "  # establish source db connection\n",
        "  try:\n",
        "    source_cnx = sqlite3.connect(db_source)\n",
        "  except Error as err:\n",
        "    print(err)\n",
        "\n",
        "  # loop through sql queries\n",
        "  for query in etl_queue:\n",
        "    etl(query, source_cnx, target_cnx)\n",
        "\n",
        "  # close the source db connection\n",
        "  source_cnx.close()"
      ],
      "execution_count": 9,
      "outputs": []
    },
    {
      "cell_type": "code",
      "metadata": {
        "id": "GB8GrFuLGRWb"
      },
      "source": [
        "# create Datawarehouse\n",
        "dwh_db = DB(DB_DWH_PATH)"
      ],
      "execution_count": 13,
      "outputs": []
    },
    {
      "cell_type": "code",
      "metadata": {
        "id": "Lc28YPjOOpb0",
        "colab": {
          "base_uri": "https://localhost:8080/"
        },
        "outputId": "78fc1b18-6687-48da-c8b8-01f9419cdbf0"
      },
      "source": [
        "print('starting etl')\n",
        "# list for iteration\n",
        "etl_queue = []\n",
        "\n",
        "# demographic table\n",
        "patients_columns = ['Id', 'BIRTHDATE', 'DEATHDATE', 'SSN', 'DRIVERS', 'PASSPORT', 'PREFIX',\n",
        "                    'FIRST', 'LAST', 'SUFFIX', 'MAIDEN', 'MARITAL', 'RACE', 'ETHNICITY',\n",
        "                    'GENDER', 'BIRTHPLACE', 'ADDRESS', 'CITY', 'STATE', 'COUNTY', 'ZIP',\n",
        "                    'LAT', 'LON', 'HEALTHCARE_EXPENSES', 'HEALTHCARE_COVERAGE']\n",
        "sql_query_patients = SqlQuery(\"patients\", patients_columns, \"patients_info\")\n",
        "etl_queue.append(sql_query_patients)\n",
        "\n",
        "county_columns = ['STATE', 'COUNTY', 'POPULATION', 'AREA_sqm', 'DENSITY_per_sqm', 'SEASIDE']\n",
        "sql_query_county = SqlQuery(\"county\", county_columns, \"county_info\")\n",
        "etl_queue.append(sql_query_county)\n",
        "\n",
        "# diagnoses tables\n",
        "conditions_columns = ['START', 'STOP', 'PATIENT', 'ENCOUNTER', 'CODE', 'DESCRIPTION']\n",
        "sql_query_conditions = SqlQuery(\"conditions\", conditions_columns, \"conditions_info\")\n",
        "etl_queue.append(sql_query_conditions)\n",
        "\n",
        "# procedures tables\n",
        "encounters_columns = ['Id', 'START', 'STOP', 'PATIENT', 'ORGANIZATIONS', 'PROVIDER', 'PAYER', 'ENCOUNTERCLASS', 'CODE', 'DESCRIPTION', 'BASE_ENCOUNTER_COST', 'TOTAL_CLAIM_COST', 'PAYER_COVERAGE', 'REASONCODE', 'REASONDESCRIPTION']\n",
        "sql_query_disease = SqlQuery(\"encounters\", encounters_columns, \"encounters_info\")\n",
        "etl_queue.append(sql_query_disease)\n",
        "\n",
        "procedures_columns = ['DATE', 'PATIENT', 'ENCOUNTER', 'CODE', 'DESCRIPTION', 'BASE_COST','REASONCODE', 'REASONDESCRIPTION']\n",
        "sql_query_procedures = SqlQuery(\"procedures\", procedures_columns, \"procedures_info\")\n",
        "etl_queue.append(sql_query_procedures)\n",
        "\n",
        "careplans_columns = ['Id', 'START', 'STOP', 'PATIENT', 'ENCOUNTER', 'CODE', 'DESCRIPTION', 'REASONCODE', 'REASONDESCRIPTION']\n",
        "sql_query_careplans = SqlQuery(\"careplans\", careplans_columns, \"careplans_info\")\n",
        "etl_queue.append(sql_query_careplans)\n",
        "\n",
        "medications_columns = ['START', 'STOP', 'PATIENT', 'PAYER', 'ENCOUNTER', 'CODE', 'DESCRIPTION',\n",
        "                       'BASE_COST', 'PAYER_COVERAGE', 'DISPENSES', 'TOTALCOST', 'REASONCODE',\n",
        "                       'REASONDESCRIPTION']\n",
        "sql_query_medications = SqlQuery(\"medications\", medications_columns, \"medications_info\")\n",
        "etl_queue.append(sql_query_medications)\n",
        "\n",
        "# lab values tables\n",
        "observations_columns = ['DATE', 'PATIENT', 'ENCOUNTER', 'CODE', 'DESCRIPTION', 'VALUE', 'UNITS','TYPE']\n",
        "sql_query_observations = SqlQuery(\"observations\", observations_columns, \"observations_info\")\n",
        "etl_queue.append(sql_query_observations)\n",
        "\n",
        "devices_columns = ['START', 'STOP', 'PATIENT', 'ENCOUNTER', 'CODE', 'DESCRIPTION', 'UDI']\n",
        "sql_query_devices = SqlQuery(\"devices\", devices_columns, \"devices_info\")\n",
        "etl_queue.append(sql_query_devices)\n",
        "\n",
        "# list for iteration\n",
        "# etl_queue"
      ],
      "execution_count": 17,
      "outputs": [
        {
          "output_type": "stream",
          "name": "stdout",
          "text": [
            "starting etl\n"
          ]
        }
      ]
    },
    {
      "cell_type": "code",
      "metadata": {
        "id": "nzLfaWkfo3iC",
        "colab": {
          "base_uri": "https://localhost:8080/"
        },
        "outputId": "333251e2-83cb-406d-df72-c3f8081909d6"
      },
      "source": [
        "# establish connection for target database (sql-server)\n",
        "target_cnx = dwh_db.conn\n",
        "etl_process(etl_queue, target_cnx, DB_SOURCE_PATH)"
      ],
      "execution_count": 18,
      "outputs": [
        {
          "output_type": "stream",
          "name": "stdout",
          "text": [
            "data loaded to warehouse db\n",
            "data loaded to warehouse db\n",
            "data loaded to warehouse db\n",
            "data loaded to warehouse db\n",
            "data loaded to warehouse db\n",
            "data loaded to warehouse db\n",
            "data loaded to warehouse db\n",
            "data loaded to warehouse db\n",
            "data loaded to warehouse db\n"
          ]
        }
      ]
    },
    {
      "cell_type": "code",
      "metadata": {
        "id": "IB9oD761EGQx"
      },
      "source": [
        "target_cnx.commit()"
      ],
      "execution_count": 19,
      "outputs": []
    },
    {
      "cell_type": "code",
      "metadata": {
        "id": "tBYWvkuKEGeS"
      },
      "source": [
        "target_cnx.close()"
      ],
      "execution_count": 20,
      "outputs": []
    }
  ]
}