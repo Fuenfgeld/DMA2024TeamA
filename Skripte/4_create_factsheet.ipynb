{
  "nbformat": 4,
  "nbformat_minor": 0,
  "metadata": {
    "colab": {
      "provenance": [],
      "toc_visible": true,
      "include_colab_link": true
    },
    "kernelspec": {
      "name": "python3",
      "display_name": "Python 3"
    },
    "language_info": {
      "name": "python"
    }
  },
  "cells": [
    {
      "cell_type": "markdown",
      "metadata": {
        "id": "view-in-github",
        "colab_type": "text"
      },
      "source": [
        "<a href=\"https://colab.research.google.com/github/Fuenfgeld/DMA2024TeamA/blob/main/4_create_factsheet.ipynb\" target=\"_parent\"><img src=\"https://colab.research.google.com/assets/colab-badge.svg\" alt=\"Open In Colab\"/></a>"
      ]
    },
    {
      "cell_type": "markdown",
      "source": [
        "# Vorbereitungen"
      ],
      "metadata": {
        "id": "6F5-99AaNUsZ"
      }
    },
    {
      "cell_type": "markdown",
      "source": [
        "## Import der notwendigen Packete und bereitstellen der Dateien in Google Drive"
      ],
      "metadata": {
        "id": "edsRCWlLNdO7"
      }
    },
    {
      "cell_type": "code",
      "execution_count": null,
      "metadata": {
        "id": "ewnMeBOTCHdE"
      },
      "outputs": [],
      "source": [
        "# !pip3 install https://github.com/pandas-profiling/pandas-profiling/archive/master.zip\n",
        "import pandas as pd\n",
        "import numpy as np\n",
        "import sqlite3\n",
        "from scipy import stats\n",
        "# import pandas_profiling\n",
        "# from datetime import datetime\n",
        "# import re\n",
        "import seaborn as sns\n",
        "import matplotlib\n",
        "import matplotlib.pyplot as plt\n",
        "# from pandas_profiling import ProfileReport\n",
        "# will make plot outputs appear and stored within the notebook.\n",
        "%matplotlib inline\n",
        "from sqlite3 import Error\n",
        "import folium\n",
        "from folium import plugins\n",
        "from folium.plugins import HeatMap\n",
        "import json\n",
        "import requests\n",
        "\n",
        "from google.colab import drive\n",
        "drive.mount('/content/drive')\n",
        "\n",
        "# Path\n",
        "material_path = \"/content/drive/MyDrive/M3_DM_GrpA\"\n",
        "\n",
        "# path of datawarehouse\n",
        "DB_DWH_PATH = material_path + f\"/DWH_MAPCOV.db\"\n",
        "\n",
        "dwh_db = sqlite3.connect(DB_DWH_PATH)\n",
        "dwh_cursor = dwh_db.cursor()"
      ]
    },
    {
      "cell_type": "markdown",
      "source": [
        "## Suche nach dem Beginn der Covid-19 Erkrankung pro Patient und dieser Filter wird in anderen Tabellen verwendet"
      ],
      "metadata": {
        "id": "GEE7dRvSNh2R"
      }
    },
    {
      "cell_type": "markdown",
      "source": [
        "Conditions: Filter nach Conditions, die parallel zu COVID aufgetreten sind.  \n",
        "Erster Part enthält den allgemeien Filter in der Conditions Tabelle nach Start und Stop von COVID-19.  \n",
        "Danach Merge mit der Conditions Tabelle OHNE 'COVID-19'. Das Ergebnis ist, dass hinter jedem Condition das Start/Stop Date von COVID steht. Nun kann eine Abfrage (Query) geschrieben werden, die die Datumsangaben vergleicht und filtert."
      ],
      "metadata": {
        "id": "LTR7V3qt9NkW"
      }
    },
    {
      "cell_type": "code",
      "source": [
        "df_conditions_filter = pd.read_sql_query(\"SELECT START AS stdt_covid, STOP AS endt_covid, PATIENT FROM conditions_INFO WHERE DESCRIPTION = 'COVID-19'\", dwh_db)\n",
        "print(\"Patients with Covid:\", df_conditions_filter.shape)\n",
        "df_cond_other = pd.read_sql_query(\"SELECT START, STOP, PATIENT, DESCRIPTION FROM conditions_info WHERE DESCRIPTION NOT LIKE '%COVID%'\", dwh_db)\n",
        "print(\"Number of other conitons than Covid:\",df_cond_other.shape)\n",
        "df_cond_covid = pd.merge(df_cond_other, df_conditions_filter, left_on=\"PATIENT\", right_on=\"PATIENT\",how=\"inner\")\n",
        "print(\"Merge:\",df_cond_covid.shape)\n",
        "df_cond_covid_qry = df_cond_covid.query('(STOP >= stdt_covid or STOP == \"\") and (START <= endt_covid or endt_covid == \"\") and DESCRIPTION.str.contains(\"(disorder)\")')\n",
        "print(\"Filter for cond within the same time as COVID:\",df_cond_covid_qry.shape)\n",
        "# df_cond_covid_qry.head()\n",
        "df_cond_grp = df_cond_covid_qry.groupby(\"PATIENT\")[\"DESCRIPTION\"].count().rename(\"Disorder\")\n",
        "#print(df_cond_grp)\n",
        "\n",
        "# Alternativ: Lists the unique vlaues of the column 'DESCRIPTION'\n",
        "# df_cond_covid_qry.DESCRIPTION.unique()"
      ],
      "metadata": {
        "id": "Kqw3a_KtvtG0"
      },
      "execution_count": null,
      "outputs": []
    },
    {
      "cell_type": "markdown",
      "source": [
        "Abfrage in devices_info nach zeitgleichem Auftreten mit COVID"
      ],
      "metadata": {
        "id": "XRvX_tE9y7rm"
      }
    },
    {
      "cell_type": "code",
      "source": [
        "df_dev_all = pd.read_sql_query(\"SELECT Patient, START, STOP, DESCRIPTION FROM devices_INFO WHERE DESCRIPTION = 'Mechanical ventilator (physical object)'\", dwh_db)\n",
        "df_dev_covid = pd.merge(df_dev_all, df_conditions_filter, left_on=\"PATIENT\", right_on=\"PATIENT\",how=\"inner\")\n",
        "print(\"Merge:\",df_dev_covid.shape)\n",
        "df_dev_covid_qry = df_dev_covid.query('(STOP >= stdt_covid or STOP == \"\") and (START <= endt_covid or endt_covid == \"\")')\n",
        "print(\"Query:\",df_dev_covid_qry.shape)\n",
        "# print(df_dev_covid_qry)\n",
        "df_dev_grp = df_dev_covid_qry.groupby(\"PATIENT\")[\"DESCRIPTION\"].count().rename(\"Ventilation\")\n",
        "#print(df_dev_grp)"
      ],
      "metadata": {
        "id": "JKNbW2kqxMOk"
      },
      "execution_count": null,
      "outputs": []
    },
    {
      "cell_type": "markdown",
      "source": [
        "Abfrage in medications_info nach zeitgleichem Auftreten mit COVID"
      ],
      "metadata": {
        "id": "Xg8Mc3AbzHUt"
      }
    },
    {
      "cell_type": "code",
      "source": [
        "df_med_all = pd.read_sql_query(\"SELECT Patient, START, STOP, DESCRIPTION, REASONDESCRIPTION FROM medications_info WHERE REASONDESCRIPTION = 'COVID-19'\", dwh_db)\n",
        "df_med_covid = pd.merge(df_med_all, df_conditions_filter, left_on=\"PATIENT\", right_on=\"PATIENT\",how=\"inner\")\n",
        "print(\"Merge:\",df_med_covid.shape)\n",
        "df_med_covid_qry = df_med_covid.query('(STOP >= stdt_covid or STOP == \"\") and (START <= endt_covid or endt_covid == \"\")')\n",
        "print(\"Query:\",df_med_covid_qry.shape)\n",
        "#print(df_med_covid_qry)\n",
        "df_med_grp = df_med_covid_qry.groupby(\"PATIENT\")[\"DESCRIPTION\"].count().rename(\"Medications\")\n",
        "#print(df_med_grp)\n",
        "#df_med_covid_qry = df_med_covid_qry.drop(['stdt_covid', 'endt_covid', 'REASONDESCRIPTION'], axis=1)"
      ],
      "metadata": {
        "id": "I3Ii9xp6zG84"
      },
      "execution_count": null,
      "outputs": []
    },
    {
      "cell_type": "markdown",
      "source": [
        "Abfrage in observations_info"
      ],
      "metadata": {
        "id": "1Pi9cABoTdR3"
      }
    },
    {
      "cell_type": "code",
      "source": [
        "df_obs_all = pd.read_sql_query(\"SELECT PATIENT, DATE, DESCRIPTION, VALUE, UNITS, TYPE FROM observations_info\", dwh_db)\n",
        "df_obs_covid = pd.merge(df_obs_all, df_conditions_filter, left_on=\"PATIENT\", right_on=\"PATIENT\",how=\"inner\")\n",
        "print(\"Merge:\",df_obs_covid.shape)\n",
        "df_obs_covid_qry = df_obs_covid.query('(DATE >= stdt_covid) and (DATE <= endt_covid or endt_covid == \"\") and DESCRIPTION.str.contains(\"Oxygen\")')\n",
        "print(\"Query:\",df_obs_covid_qry.shape)\n",
        "#print(df_obs_covid_qry)\n",
        "#df_obs_covid_qry = df_obs_covid_qry.drop(['stdt_covid', 'endt_covid', 'REASONDESCRIPTION'], axis=1)\n",
        "#df_obs_covid_qry.head()\n",
        "#df_obs_grp = df_obs_covid_qry.groupby(\"PATIENT\")[\"DESCRIPTION\"].count()\n",
        "#print(df_obs_grp.shape)"
      ],
      "metadata": {
        "id": "NOCw7K0XTdEy"
      },
      "execution_count": null,
      "outputs": []
    },
    {
      "cell_type": "markdown",
      "source": [
        "Abfrage in encounters_info nach zeitgleichem Auftreten mit COVID"
      ],
      "metadata": {
        "id": "-3L_MPr369dX"
      }
    },
    {
      "cell_type": "code",
      "source": [
        "df_enc_new = pd.read_sql_query(\"SELECT PATIENT, START, STOP, ENCOUNTERCLASS, REASONDESCRIPTION FROM encounters_info\", dwh_db)\n",
        "enc_class = df_enc_new.groupby(\"ENCOUNTERCLASS\")[\"PATIENT\"].count()\n",
        "# print(enc_class)"
      ],
      "metadata": {
        "id": "2wGMaAv7bAtq"
      },
      "execution_count": null,
      "outputs": []
    },
    {
      "cell_type": "code",
      "source": [
        "df_enc_all = pd.read_sql_query(\"SELECT PATIENT, START, STOP, ENCOUNTERCLASS, REASONDESCRIPTION FROM encounters_info\", dwh_db)\n",
        "df_enc_covid = pd.merge(df_enc_all, df_conditions_filter, left_on=\"PATIENT\", right_on=\"PATIENT\",how=\"inner\")\n",
        "print(\"Merge:\",df_enc_covid.shape)\n",
        "df_enc_covid_qry = df_enc_covid.query('(STOP >= stdt_covid or STOP == \"\") and (START <= endt_covid or endt_covid == \"\") and (ENCOUNTERCLASS == \"inpatient\")')\n",
        "print(\"Query:\",df_enc_covid_qry.shape)\n",
        "# print(df_enc_covid_qry)\n",
        "# df_enc_covid_qry['Count_wellness'] = np.where(df_enc_covid_qry['ENCOUNTERCLASS'] == \"wellnes\", 0 , 1)\n",
        "# print(\"Wellness = 1:\",df_enc_covid_qry.shape)\n",
        "# df_enc_covid_qry.head()\n",
        "df_enc_grp = df_enc_covid_qry.groupby(\"PATIENT\")[\"ENCOUNTERCLASS\"].count().rename(\"inpatient\")\n",
        "# print(df_enc_grp)"
      ],
      "metadata": {
        "id": "vbCV1dr96lCa"
      },
      "execution_count": null,
      "outputs": []
    },
    {
      "cell_type": "markdown",
      "source": [
        "# Factsheet erstellen\n",
        "Als Grundlage wird Patients_info genommen. Das dataframe wird bereinigt und erweitert wie im DMP beschrieben."
      ],
      "metadata": {
        "id": "hjg5yRf8tWcM"
      }
    },
    {
      "cell_type": "code",
      "source": [
        "df_fs = pd.read_sql_query(\"SELECT * FROM patients_INFO WHERE DEATHDATE >= '2020-01-01' OR DEATHDATE == ''\", dwh_db)\n",
        "df_fs = df_fs.drop(['SSN', 'DRIVERS', 'PASSPORT', 'PREFIX',\n",
        "       'FIRST', 'LAST', 'SUFFIX', 'MAIDEN', 'MARITAL', 'RACE', 'ETHNICITY',\n",
        "        'BIRTHPLACE', 'ADDRESS', 'CITY', 'STATE', 'ZIP',\n",
        "        'HEALTHCARE_EXPENSES', 'HEALTHCARE_COVERAGE'], axis = 1)\n",
        "df_county = pd.read_sql_query(\"SELECT COUNTY, DENSITY_per_sqm, SEASIDE FROM county_info\", dwh_db)\n",
        "df_county['SEASIDE'] = np.where(df_county['SEASIDE'] == 'Yes', 1,0)\n",
        "df_covid = pd.read_sql_query(\"SELECT PATIENT, START AS stdt_covid, STOP AS endt_covid FROM conditions_info WHERE DESCRIPTION = 'COVID-19'\", dwh_db)\n",
        "# merge county and conditons = Covid into fact sheet with patients\n",
        "df_fs = pd.merge(df_fs, df_county, left_on=\"COUNTY\", right_on=\"COUNTY\", how=\"inner\")\n",
        "df_fs = pd.merge(df_fs, df_covid, left_on=\"Id\", right_on=\"PATIENT\", how=\"inner\")\n",
        "df_fs = df_fs.drop(['PATIENT'], axis = 1)\n",
        "# Calculate age when Covid infections occured\n",
        "df_fs[\"BIRTHDATE\"] = pd.to_datetime(df_fs[\"BIRTHDATE\"])\n",
        "df_fs[\"stdt_covid\"] = pd.to_datetime(df_fs[\"stdt_covid\"])\n",
        "df_fs[\"AGE_Covid\"] = df_fs.stdt_covid.dt.year - df_fs.BIRTHDATE.dt.year\n",
        "# merge tables for severity score\n",
        "df_fs = pd.merge(df_fs, df_dev_grp, left_on=\"Id\", right_on=\"PATIENT\", how=\"left\")\n",
        "df_fs = pd.merge(df_fs, df_med_grp, left_on=\"Id\", right_on=\"PATIENT\", how=\"left\")\n",
        "df_fs = pd.merge(df_fs, df_enc_grp, left_on=\"Id\", right_on=\"PATIENT\", how=\"left\")\n",
        "df_fs = pd.merge(df_fs, df_cond_grp, left_on=\"Id\", right_on=\"PATIENT\", how=\"left\")\n",
        "# Replace NaN with 0 in Score\n",
        "df_fs[\"inpatient\"] = df_fs.inpatient.fillna(0)\n",
        "df_fs[\"Medications\"] = df_fs.Medications.fillna(0)\n",
        "df_fs[\"Ventilation\"] = df_fs.Ventilation.fillna(0)\n",
        "df_fs[\"Disorder\"] = df_fs.Disorder.fillna(0)\n",
        "df_fs[\"Death\"] = np.where(df_fs['DEATHDATE'] == \"\", \"Yes\" , \"No\")\n",
        "df_fs[\"SEVID\"] = np.where(df_fs['inpatient'] == 0, 0, 1) + np.where(df_fs['Medications'] == 0, 0, 1) + np.where(df_fs['Ventilation'] == 0, 0, 1) + np.where(df_fs['Disorder'] == 0, 0, 1) + np.where(df_fs['DEATHDATE'] == \"\", 0 , 1)\n",
        "# df_fs[df_fs['Death'] == 'Yes']\n",
        "# print(df_fs.shape)\n",
        "df_fs.head()\n",
        "# df_fs.info()\n",
        "# uncomment for general analysis\n",
        "df_fs.describe()\n"
      ],
      "metadata": {
        "id": "1uOXWan4wU-c"
      },
      "execution_count": null,
      "outputs": []
    },
    {
      "cell_type": "markdown",
      "source": [
        "# Statistik  \n",
        "### chi-square Test\n",
        "Default: Pearson’s chi-squared statistic   \n",
        "pvalue < 0.05 zeigt einen Zusammenhang zwischen den Paramtern an  \n",
        "### Alternative: Man whitney U Test  \n",
        "Nicht geplant\n"
      ],
      "metadata": {
        "id": "rMgt5Qnm214x"
      }
    },
    {
      "cell_type": "code",
      "source": [
        "ct_den_sco = pd.crosstab(df_fs['DENSITY_per_sqm'], df_fs['SEVID'])\n",
        "print(ct_den_sco)\n",
        "chi2, p, dof, expected = stats.chi2_contingency(ct_den_sco)\n",
        "print (f'Chi-square Statistic: {chi2}, p-value: {p}')"
      ],
      "metadata": {
        "id": "QcaOHqNN7ivh"
      },
      "execution_count": null,
      "outputs": []
    },
    {
      "cell_type": "code",
      "source": [
        "ct_sea_sco = pd.crosstab(df_fs['SEASIDE'], df_fs['Ventilation'])\n",
        "print(ct_sea_sco)\n",
        "chi2, p, dof, expected = stats.chi2_contingency(ct_sea_sco)\n",
        "print (f'Chi-square Statistic: {chi2}, p-value: {p}')"
      ],
      "metadata": {
        "id": "GzaPDx9WCuWq"
      },
      "execution_count": null,
      "outputs": []
    },
    {
      "cell_type": "markdown",
      "source": [
        "# Diagramme  \n",
        "Heatmap für den Zusammenhang zwischen Sevid Score, Dichte und Wohnort an der Küste"
      ],
      "metadata": {
        "id": "L93b9Cksibb-"
      }
    },
    {
      "cell_type": "code",
      "source": [
        "# Generating the correlating matrix\n",
        "df_fs_heat = df_fs.drop(['LAT', 'LON', 'AGE_Covid', 'Medications',\n",
        "       'inpatient', 'Disorder', 'Death'], axis = 1)\n",
        "corr = df_fs_heat.corr()\n",
        "\n",
        "plt.figure(figsize=(7, 5))\n",
        "# Generating the correlation heat-map\n",
        "sns.heatmap(corr, annot=False)"
      ],
      "metadata": {
        "id": "Rxs_KcGQidKA"
      },
      "execution_count": null,
      "outputs": []
    },
    {
      "cell_type": "code",
      "source": [
        "#Generating Map\n",
        "\n",
        "Map_Coordinates=(42.40, -71.38)\n",
        "map_ma = folium.Map(location = Map_Coordinates, tiles=\"Cartodb Positron\", width = \"100%\", zoom_start = 8)\n",
        "coordinates = df_fs[[\"LAT\", \"LON\"]].values.tolist()\n",
        "for i in range (0, len(coordinates)):\n",
        "  folium.RegularPolygonMarker(coordinates[i], radius = 0.5, fill_color = \"blue\").add_to(map_ma)\n",
        "'''\n",
        "geojson_data = requests.get(\n",
        "    \"https://raw.githubusercontent.com/python-visualization/folium/main/examples/data/us-states.json\"\n",
        "    #\"https://raw.githubusercontent.com/python-visualization/folium/main/examples/data/us_counties_20m_topo.json\"\n",
        ").json()\n",
        "\n",
        "folium.GeoJson(geojson_data\n",
        "               ).add_to(map_ma)\n",
        "\n",
        "folium.LayerControl().add_to(map_ma)\n",
        "'''\n",
        "HeatMap(coordinates).add_to(map_ma)\n",
        "map_ma"
      ],
      "metadata": {
        "id": "4N1y0iwIWHZ3"
      },
      "execution_count": null,
      "outputs": []
    },
    {
      "cell_type": "markdown",
      "source": [
        "# Relevante Informationen zur Reproduzierbarkeit"
      ],
      "metadata": {
        "id": "GJtVpQT09jFy"
      }
    },
    {
      "cell_type": "markdown",
      "source": [
        "## Versionen der Packages"
      ],
      "metadata": {
        "id": "wWNltsGM905M"
      }
    },
    {
      "cell_type": "code",
      "source": [
        "!python --version\n",
        "print('Pandas: ', pd.__version__,'\\n',\n",
        "      'Numpy: ', np.__version__,'\\n',\n",
        "      'sqlite3: ', sqlite3.version,'\\n',\n",
        "      'seaborn: ', sns.__version__,'\\n',\n",
        "      'matplotlib: ', matplotlib.__version__,'\\n',\n",
        "      'Folium: ', folium.__version__)"
      ],
      "metadata": {
        "id": "Xy48K7wW_HBM"
      },
      "execution_count": null,
      "outputs": []
    },
    {
      "cell_type": "markdown",
      "source": [
        "## Hashwert des factsheets"
      ],
      "metadata": {
        "id": "HwFQxhyl95By"
      }
    },
    {
      "cell_type": "code",
      "source": [
        "from pandas.util import hash_pandas_object\n",
        "df_fs_hashes = hash_pandas_object(df_fs)\n",
        "df_fs_hashes"
      ],
      "metadata": {
        "id": "J5xU5aQ_9-FD"
      },
      "execution_count": null,
      "outputs": []
    },
    {
      "cell_type": "markdown",
      "source": [
        "Summe sollte lauten: 1167844697639228167"
      ],
      "metadata": {
        "id": "sYELvlXd-Iep"
      }
    },
    {
      "cell_type": "code",
      "source": [
        "df_fs_hashes.sum()"
      ],
      "metadata": {
        "id": "OJCHg591-Hxp"
      },
      "execution_count": null,
      "outputs": []
    }
  ]
}
