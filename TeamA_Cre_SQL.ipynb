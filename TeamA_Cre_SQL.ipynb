{
  "nbformat": 4,
  "nbformat_minor": 0,
  "metadata": {
    "colab": {
      "provenance": [],
      "mount_file_id": "1WG7xzhG8tYRhujNQ8LryZHTLRSh3-0gT",
      "authorship_tag": "ABX9TyPtz9Amd+0YaIiaHpXTWQO0",
      "include_colab_link": true
    },
    "kernelspec": {
      "name": "python3",
      "display_name": "Python 3"
    },
    "language_info": {
      "name": "python"
    }
  },
  "cells": [
    {
      "cell_type": "markdown",
      "metadata": {
        "id": "view-in-github",
        "colab_type": "text"
      },
      "source": [
        "<a href=\"https://colab.research.google.com/github/Fuenfgeld/DMA2024TeamA/blob/main/TeamA_Cre_SQL.ipynb\" target=\"_parent\"><img src=\"https://colab.research.google.com/assets/colab-badge.svg\" alt=\"Open In Colab\"/></a>"
      ]
    },
    {
      "cell_type": "markdown",
      "source": [
        "Erste Erstellung der SQL Datenbank mit allen Daten aus der Disease 'Covid19';\n",
        "Import der notwendigen Packete und Funktionen; Eingabe des Pfades der Dateien"
      ],
      "metadata": {
        "id": "vNsQS0SaMCzJ"
      }
    },
    {
      "cell_type": "code",
      "execution_count": null,
      "metadata": {
        "id": "FPwtpeA9L388"
      },
      "outputs": [],
      "source": [
        "import pandas as pd\n",
        "from functools import reduce\n",
        "import sqlite3\n",
        "from sqlite3 import Error\n",
        "import csv\n",
        "\n",
        "# WICHTIG: In Colab Links auf dem Ordner \"Dateien\" klciken und dann oben \"Googel Drive bereitstellen\" auswählen. DAmit stellt man die Verbindung zu seinem persönlichen Drive her.\n",
        "# Der Pfad muss dann so angepasst werden, dass die Dateien im eigenen Drive Ordner gefunden werden\n",
        "material_path = \"/content/drive/MyDrive/M3_DM\""
      ]
    },
    {
      "cell_type": "markdown",
      "source": [
        "Auswählen der Disease & Name + Speicherort der Datenbanken festlegen"
      ],
      "metadata": {
        "id": "omJkONLFTWGN"
      }
    },
    {
      "cell_type": "code",
      "source": [
        "!ls \"/content/drive/MyDrive/M3_DM\" # [zum Auslesen der Dateien und Ordner in dem angegebenen Pfad]\n",
        "patient_type = \"covid19\"\n",
        "# Der hintere Teil des Pfades bestimmt den Namen der Datenbank\n",
        "DB_FILE_PATH = f\"{material_path}/source_{patient_type}_test.db\"\n",
        "csv_path = f\"{material_path}/csv_data/{patient_type}/\"\n",
        "\n",
        "DB_FILE_PATH, csv_path"
      ],
      "metadata": {
        "id": "wmZ7Nr3ETZxZ"
      },
      "execution_count": null,
      "outputs": []
    },
    {
      "cell_type": "markdown",
      "source": [
        "Leere SQL Tabellen pro csv erstellen.\n",
        "Datentyp und Key (Primary und Foreign) definieren"
      ],
      "metadata": {
        "id": "NA-CgS0gWOGW"
      }
    },
    {
      "cell_type": "code",
      "source": [
        "# dictionary key: name of table, values: sql query to create table\n",
        "sql_table = {}"
      ],
      "metadata": {
        "id": "vV-Sa5-SWXHk"
      },
      "execution_count": null,
      "outputs": []
    },
    {
      "cell_type": "code",
      "source": [
        "sql_table[\"disease\"] = \"\"\"CREATE TABLE IF NOT EXISTS disease (\n",
        "                           START DATE,\n",
        "                           STOP DATE,\n",
        "                           PATIENT STRING,\n",
        "                           ENCOUNTER STRING,\n",
        "                           CODE STRING,\n",
        "                           DESCRIPTION STRING,\n",
        "                           FOREIGN KEY (PATIENT)\n",
        "                              REFERENCES patients (Id)\n",
        "                           FOREIGN KEY (Encounter)\n",
        "                              REFERENCES encounters (Id)\n",
        "\n",
        "                       );\"\"\""
      ],
      "metadata": {
        "id": "dEyHnmvYWbq8"
      },
      "execution_count": null,
      "outputs": []
    },
    {
      "cell_type": "code",
      "source": [
        "sql_table[\"patients\"] = \"\"\"CREATE TABLE IF NOT EXISTS patients (\n",
        "                           Id STRING PRIMARY KEY,\n",
        "                           BIRTHDATE DATE,\n",
        "                           DEATHDATE DATE,\n",
        "                           SSN STRING,\n",
        "                           DRIVERS STRING,\n",
        "                           PASSPORT STRING,\n",
        "                           PREFIX STRING,\n",
        "                           FIRST STRING,\n",
        "                           LAST STRING,\n",
        "                           SUFFIX STRING,\n",
        "                           MAIDEN STRING,\n",
        "                           MARITAL STRING,\n",
        "                           RACE STRING,\n",
        "                           ETHNICITY STRING,\n",
        "                           GENDER STRING,\n",
        "                           BIRTHPLACE STRING,\n",
        "                           ADDRESS STRING,\n",
        "                           CITY STRING,\n",
        "                           STATE STRING,\n",
        "                           COUNTY STRING,\n",
        "                           ZIP STRING,\n",
        "                           LAT INTEGER,\n",
        "                           LON INTEGER,\n",
        "                           HEALTHCARE_EXPENSES INTEGER,\n",
        "                           HEALTHCARE_COVERAGE INTEGER,\n",
        "                           FOREIGN KEY (COUNTY)\n",
        "                              REFERENCES county (county)\n",
        "                       );\"\"\""
      ],
      "metadata": {
        "id": "reUc2XuTWb9k"
      },
      "execution_count": null,
      "outputs": []
    },
    {
      "cell_type": "code",
      "source": [
        "sql_table[\"encounters\"] = \"\"\"CREATE TABLE IF NOT EXISTS encounters (\n",
        "                           Id STRING PRIMARY KEY,\n",
        "                           START DATE,\n",
        "                           STOP DATE,\n",
        "                           PATIENT STRING,\n",
        "                           ORGANIZATIONS STRING,\n",
        "                           PROVIDER STRING,\n",
        "                           PAYER STRING,\n",
        "                           ENCOUNTERCLASS STRING,\n",
        "                           CODE STRING,\n",
        "                           DESCRIPTION STRING,\n",
        "                           BASE_ENCOUNTER_COST INTEGER,\n",
        "                           TOTAL_CLAIM_COST INTEGER,\n",
        "                           PAYER_COVERAGE INTEGER,\n",
        "                           REASONCODE STRING,\n",
        "                           REASONDESCRIPTION STRING,\n",
        "                           FOREIGN KEY (PATIENT)\n",
        "                              REFERENCES patients (Id)\n",
        "                       );\"\"\""
      ],
      "metadata": {
        "id": "6KN1tDeBWcFB"
      },
      "execution_count": null,
      "outputs": []
    },
    {
      "cell_type": "code",
      "source": [
        "sql_table[\"careplans\"] = \"\"\"CREATE TABLE IF NOT EXISTS careplans (\n",
        "                           Id STRING PRIMARY KEY,\n",
        "                           START DATE,\n",
        "                           STOP DATE,\n",
        "                           PATIENT STRING,\n",
        "                           ENCOUNTER STRING,\n",
        "                           CODE STRING,\n",
        "                           DESCRIPTION STRING,\n",
        "                           REASONCODE STRING,\n",
        "                           REASONDESCRIPTION STRING,\n",
        "                           FOREIGN KEY (PATIENT)\n",
        "                              REFERENCES patients (Id)\n",
        "                           FOREIGN KEY (Encounter)\n",
        "                              REFERENCES encounters (Id)\n",
        "\n",
        "                       );\"\"\""
      ],
      "metadata": {
        "id": "CDyQcaTuWcLb"
      },
      "execution_count": null,
      "outputs": []
    },
    {
      "cell_type": "code",
      "source": [
        "sql_table[\"conditions\"] = \"\"\"CREATE TABLE IF NOT EXISTS conditions (\n",
        "                           START DATE,\n",
        "                           STOP DATE,\n",
        "                           PATIENT STRING,\n",
        "                           ENCOUNTER STRING,\n",
        "                           CODE STRING,\n",
        "                           DESCRIPTION STRING,\n",
        "                           FOREIGN KEY (PATIENT)\n",
        "                              REFERENCES patients (Id)\n",
        "                           FOREIGN KEY (Encounter)\n",
        "                              REFERENCES encounters (Id)\n",
        "\n",
        "                       );\"\"\""
      ],
      "metadata": {
        "id": "3Do1RowbBlok"
      },
      "execution_count": null,
      "outputs": []
    },
    {
      "cell_type": "code",
      "source": [
        "sql_table[\"medications\"] = \"\"\"CREATE TABLE IF NOT EXISTS medications (\n",
        "                           START DATE,\n",
        "                           STOP DATE,\n",
        "                           PATIENT STRING,\n",
        "                           PAYER STRING,\n",
        "                           ENCOUNTER STRING,\n",
        "                           CODE STRING,\n",
        "                           DESCRIPTION STRING,\n",
        "                           BASE_COST INTEGER,\n",
        "                           PAYER_COVERAGE INTEGER,\n",
        "                           DISPENSES INTEGER,\n",
        "                           TOTALCOST INTEGER,\n",
        "                           REASONCODE STRING,\n",
        "                           REASONDESCRIPTION STRING,\n",
        "                           FOREIGN KEY (PATIENT)\n",
        "                              REFERENCES patients (Id)\n",
        "\n",
        "                       );\"\"\""
      ],
      "metadata": {
        "id": "92vHRB4WBnpz"
      },
      "execution_count": null,
      "outputs": []
    },
    {
      "cell_type": "code",
      "source": [
        "sql_table[\"procedures\"]= \"\"\"CREATE TABLE IF NOT EXISTS procedures (\n",
        "                           DATE DATE,\n",
        "                           PATIENT STRING,\n",
        "                           ENCOUNTER STRING,\n",
        "                           CODE STRING,\n",
        "                           DESCRIPTION STRING,\n",
        "                           BASE_COST INTEGER,\n",
        "                           REASONCODE STRING,\n",
        "                           REASONDESCRIPTION STRING,\n",
        "                           FOREIGN KEY (PATIENT)\n",
        "                              REFERENCES patients (Id)\n",
        "                           FOREIGN KEY (Encounter)\n",
        "                              REFERENCES encounters (Id)\n",
        "\n",
        "                       );\"\"\""
      ],
      "metadata": {
        "id": "SgTEhsmbBpsM"
      },
      "execution_count": null,
      "outputs": []
    },
    {
      "cell_type": "code",
      "source": [
        "sql_table[\"observations\"]= \"\"\"CREATE TABLE IF NOT EXISTS observations (\n",
        "                           DATE DATE,\n",
        "                           PATIENT STRING,\n",
        "                           ENCOUNTER STRING,\n",
        "                           CODE STRING,\n",
        "                           DESCRIPTION STRING,\n",
        "                           VALUE STRING,\n",
        "                           UNITS STRING,\n",
        "                           TYPE STRING,\n",
        "                           FOREIGN KEY (PATIENT)\n",
        "                              REFERENCES patients (Id)\n",
        "                           FOREIGN KEY (Encounter)\n",
        "                              REFERENCES encounters (Id)\n",
        "\n",
        "                       );\"\"\""
      ],
      "metadata": {
        "id": "67SAlMoOBrdW"
      },
      "execution_count": null,
      "outputs": []
    },
    {
      "cell_type": "code",
      "source": [
        "sql_table[\"devices\"] = \"\"\"CREATE TABLE IF NOT EXISTS devices (\n",
        "                           START DATE,\n",
        "                           STOP DATE,\n",
        "                           PATIENT STRING,\n",
        "                           ENCOUNTER STRING,\n",
        "                           CODE STRING,\n",
        "                           DESCRIPTION STRING,\n",
        "                           UDI STRING,\n",
        "                           FOREIGN KEY (PATIENT)\n",
        "                              REFERENCES patients (Id)\n",
        "                           FOREIGN KEY (Encounter)\n",
        "                              REFERENCES encounters (Id)\n",
        "\n",
        "                       );\"\"\"\n"
      ],
      "metadata": {
        "id": "8WAQDOPUBt78"
      },
      "execution_count": null,
      "outputs": []
    },
    {
      "cell_type": "code",
      "source": [
        "sql_table[\"imaging_studies\"] = \"\"\"CREATE TABLE IF NOT EXISTS imaging_studies (\n",
        "                           Id STRING PRIMARY KEY,\n",
        "                           DATE DATE,\n",
        "                           PATIENT STRING,\n",
        "                           ENCOUNTER STRING,\n",
        "                           BODYSITE_CODE STRING,\n",
        "                           BODYSITE_DESCRIPTION STRING,\n",
        "                           MODALITY_CODE STRING,\n",
        "                           MODALITY_DESCRIPTION STRING,\n",
        "                           SOP_CODE STRING,\n",
        "                           SOP_DESCRIPTION STRING,\n",
        "                           FOREIGN KEY (PATIENT)\n",
        "                              REFERENCES patients (Id)\n",
        "                           FOREIGN KEY (Encounter)\n",
        "                              REFERENCES encounters (Id)\n",
        "\n",
        "                       );\"\"\""
      ],
      "metadata": {
        "id": "XNGUwSLUBwO2"
      },
      "execution_count": null,
      "outputs": []
    },
    {
      "cell_type": "code",
      "source": [
        "sql_table[\"immunizations\"]= \"\"\"CREATE TABLE IF NOT EXISTS immunizations(\n",
        "                           DATE DATE,\n",
        "                           PATIENT STRING,\n",
        "                           ENCOUNTER STRING,\n",
        "                           CODE STRING,\n",
        "                           DESCRIPTION STRING,\n",
        "                           BASE_COST INTEGER,\n",
        "                           FOREIGN KEY (PATIENT)\n",
        "                              REFERENCES patients (Id)\n",
        "                           FOREIGN KEY (Encounter)\n",
        "                              REFERENCES encounters (Id)\n",
        "\n",
        "                       );\"\"\""
      ],
      "metadata": {
        "id": "TEZp0p9cByJs"
      },
      "execution_count": null,
      "outputs": []
    },
    {
      "cell_type": "code",
      "source": [
        "sql_table[\"county\"]= \"\"\"CREATE TABLE IF NOT EXISTS county(\n",
        "                    STATE STRING,\n",
        "                    COUNTY STRING PRIMARY KEY,\n",
        "                    POPULATION INTEGER,\n",
        "                    AREA_sqm INTEGER,\n",
        "                    DENSITY_per_sqm INTEGER,\n",
        "                    SEASIDE INTEGER\n",
        "                  );\"\"\""
      ],
      "metadata": {
        "id": "7B6-fa8ZgYtv"
      },
      "execution_count": null,
      "outputs": []
    },
    {
      "cell_type": "markdown",
      "source": [
        "Funktionen, die zum Import der csv Dateien nötig sind"
      ],
      "metadata": {
        "id": "LslqEez2ZULa"
      }
    },
    {
      "cell_type": "code",
      "source": [
        "def connect_to_db(db_file):\n",
        "    \"\"\"\n",
        "    Connect to an SQlite database, if db file does not exist it will be created\n",
        "    :param db_file: absolute or relative path of db file\n",
        "    :return: sqlite3 connection\n",
        "    \"\"\"\n",
        "    sqlite3_conn = None\n",
        "\n",
        "    try:\n",
        "        sqlite3_conn = sqlite3.connect(db_file)\n",
        "        return sqlite3_conn\n",
        "\n",
        "    except Error as err:\n",
        "        print(err)\n",
        "\n",
        "        if sqlite3_conn is not None:\n",
        "            sqlite3_conn.close()\n",
        "\n",
        "\n",
        "def open_csv_file(csv_file_path):\n",
        "    \"\"\"\n",
        "    Open and read data from a csv file without headers (skipping the first row)\n",
        "    :param csv_file_path: path of the csv file to process\n",
        "    :return: a list with the csv content\n",
        "    \"\"\"\n",
        "    with open(csv_file_path, 'r', encoding='utf-8') as csv_file:\n",
        "        reader = csv.reader(csv_file)\n",
        "        next(reader)\n",
        "\n",
        "        data = list()\n",
        "        for row in reader:\n",
        "            data.append(row)\n",
        "\n",
        "        return data\n",
        "\n",
        "\n",
        "def insert_values_to_table(cursor, table_name, csv_file_path):\n",
        "\n",
        "    \"\"\"\n",
        "    Open a csv file, store its content in a list excluding header and insert the data from the list to db table\n",
        "    :param table_name: table name in the database to insert the data into\n",
        "    :param csv_file_path: path of the csv file to process\n",
        "    :return: None\n",
        "    \"\"\"\n",
        "\n",
        "    # Read CSV file content\n",
        "    values_to_insert = open_csv_file(csv_file_path)\n",
        "\n",
        "    # Insert to table\n",
        "    if len(values_to_insert) > 0:\n",
        "        column_names, column_numbers = get_column_names_from_db_table(cursor, table_name)\n",
        "\n",
        "        values_str = '?,' * column_numbers\n",
        "        # print(\"*****\", values_str, column_names, column_numbers)\n",
        "        values_str = values_str[:-1]\n",
        "\n",
        "        sql_query = 'INSERT OR REPLACE INTO ' + table_name + '(' + column_names + ') VALUES (' + values_str + ')'\n",
        "\n",
        "\n",
        "        cursor.executemany(sql_query, values_to_insert)\n",
        "        # conn.commit()\n",
        "\n",
        "        print('SQL insert process finished')\n",
        "    else:\n",
        "        print('Nothing to insert')\n",
        "\n",
        "        # conn.close()\n",
        "\n",
        "    # else:\n",
        "        # print('Connection to database failed')\n",
        "\n",
        "\n",
        "def get_column_names_from_db_table(sql_cursor, table_name):\n",
        "    \"\"\"\n",
        "    Scrape the column names from a database table to a list and convert to a comma separated string, count the number\n",
        "    of columns in a database table\n",
        "    :param sql_cursor: sqlite cursor\n",
        "    :param table_name: table name to get the column names from\n",
        "    :return: a comma separated string with column names, an integer with number of columns\n",
        "    \"\"\"\n",
        "\n",
        "    table_column_names = 'PRAGMA table_info(' + table_name + ');'\n",
        "    sql_cursor.execute(table_column_names)\n",
        "    table_column_names = sql_cursor.fetchall()\n",
        "\n",
        "    column_count = len(table_column_names)\n",
        "\n",
        "    column_names = list()\n",
        "\n",
        "    for name in table_column_names:\n",
        "        column_names.append(name[1])\n",
        "\n",
        "    return ', '.join(column_names), column_count\n"
      ],
      "metadata": {
        "id": "vJ8Rla2AW38o"
      },
      "execution_count": null,
      "outputs": []
    },
    {
      "cell_type": "markdown",
      "source": [
        "Loop durch alle csv Dateien im definierten Ordner. Ablage in der erstellten SQL DB"
      ],
      "metadata": {
        "id": "pqFuz4rHc9si"
      }
    },
    {
      "cell_type": "code",
      "source": [
        "conn = connect_to_db(DB_FILE_PATH)\n",
        "if conn is not None:\n",
        "        cursor = conn.cursor()\n",
        "        for name in sql_table.keys():\n",
        "          if name != \"county\":\n",
        "            csv_file = csv_path + name + \".csv\"\n",
        "          else:\n",
        "            csv_file = f\"{material_path}/\" + name + \".csv\"\n",
        "          print(name, csv_file)\n",
        "\n",
        "          cursor.execute(sql_table[name])\n",
        "\n",
        "          insert_values_to_table(cursor, name, csv_file)\n",
        "        # conn.commit()\n",
        "else:\n",
        "        print('Connection to database failed')"
      ],
      "metadata": {
        "id": "hldO0PaIc0DF"
      },
      "execution_count": null,
      "outputs": []
    },
    {
      "cell_type": "code",
      "source": [
        "# List of tables in database\n",
        "cursor.execute(\"SELECT name FROM sqlite_master WHERE type='table';\")\n",
        "print(cursor.fetchall())\n",
        "\n",
        "df_pat = pd.read_sql_query(\"SELECT COUNT(patients.Id), county.COUNTY from patients,county WHERE patients.COUNTRY = county.county GROUP BY county.county\", conn)\n",
        "df_county = pd.read_sql_query(\"SELECT * from county\", conn)\n",
        "print(df_county)\n",
        "print(df_pat)\n"
      ],
      "metadata": {
        "id": "WF1X1Pi6dWw5"
      },
      "execution_count": null,
      "outputs": []
    },
    {
      "cell_type": "code",
      "source": [
        "# Commit Befehl notwendig, damit die DB gespeichert wird. Das geschieht nicht automatisch\n",
        "conn.commit()\n",
        "# Close Befehl schließt die Verbindung zur DB.\n",
        "# conn.close()"
      ],
      "metadata": {
        "id": "tfs5iVwZdmg0"
      },
      "execution_count": null,
      "outputs": []
    }
  ]
}